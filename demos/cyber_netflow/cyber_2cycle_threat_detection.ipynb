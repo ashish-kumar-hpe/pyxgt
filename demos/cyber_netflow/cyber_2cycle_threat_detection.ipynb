{
 "cells": [
  {
   "cell_type": "markdown",
   "metadata": {},
   "source": [
    "# Analyzing Netflow Data with xGT\n",
    "\n",
    "This sample script loads raw NetFlow data in an xGT graph structure and queries for a graph pattern.\n",
    "\n",
    "The dataset used is from the CTU-13 open source project:\n",
    "https://mcfp.weebly.com/the-ctu-13-dataset-a-labeled-dataset-with-botnet-normal-and-background-traffic.html\n",
    "\n",
    "Raw data example:\n",
    "\n",
    "```\n",
    "StartTime   SrcAddr       DstAddr       State  sTos  dTos  TotPkts  TotBytes\n",
    "2011/08/16  147.32.86.58  77.75.73.9    SR_A   0.0   0.0   3        182\n",
    "2011/08/16  147.32.3.51   147.32.84.46  S_RA   0.0   0.0   4        124\n",
    "```\n",
    "\n",
    "This notebook follows this sequence of steps:\n",
    "\n",
    "1. Setup python environment\n",
    "2. Read the input netflow file\n",
    "3. Create graph schema\n",
    "4. Upload the data to the Trovares xGT server\n",
    "5. Run a query"
   ]
  },
  {
   "cell_type": "markdown",
   "metadata": {},
   "source": [
    "## 1. Setup Python Environment\n",
    "\n",
    "  - Create Trovares xGT setup/connection\n",
    "  - Register with Graphistry"
   ]
  },
  {
   "cell_type": "code",
   "execution_count": 1,
   "metadata": {
    "scrolled": true
   },
   "outputs": [
    {
     "data": {
      "text/plain": [
       "'1.9.0'"
      ]
     },
     "execution_count": 1,
     "metadata": {},
     "output_type": "execute_result"
    }
   ],
   "source": [
    "import numpy as np\n",
    "import pandas as pd\n",
    "import sys\n",
    "import csv\n",
    "import re\n",
    "import os\n",
    "import xgt\n",
    "\n",
    "# For cloud instances, replace the localhost with the instance's IP address\n",
    "server = xgt.Connection(host='localhost', userid='xgtd')\n",
    "server.set_default_namespace('ctu13')\n",
    "xgt.__version__"
   ]
  },
  {
   "cell_type": "code",
   "execution_count": 2,
   "metadata": {},
   "outputs": [
    {
     "name": "stdout",
     "output_type": "stream",
     "text": [
      "········\n"
     ]
    }
   ],
   "source": [
    "import graphistry\n",
    "\n",
    "# To specify Graphistry account & server, use:\n",
    "# graphistry.register(api=3, username='...', password='...', protocol='https', server='hub.graphistry.com')\n",
    "# For more options, see https://github.com/graphistry/pygraphistry#configure\n",
    "import getpass\n",
    "graphistry.register(api=3, username='your@login.id', password=getpass.getpass(),\n",
    "                    protocol='https', server='hub.graphistry.com')"
   ]
  },
  {
   "cell_type": "markdown",
   "metadata": {},
   "source": [
    "## 2. Read the input netflow file\n",
    "\n",
    "- Read the input netflow file from the file system into the pandas Dataframe.\n",
    "- Do data transformations to align with Trovares xGT"
   ]
  },
  {
   "cell_type": "code",
   "execution_count": 3,
   "metadata": {},
   "outputs": [
    {
     "name": "stdout",
     "output_type": "stream",
     "text": [
      "CPU times: user 3.59 s, sys: 421 ms, total: 4.01 s\n",
      "Wall time: 20 s\n"
     ]
    }
   ],
   "source": [
    "%%time\n",
    "# Ingest data, translating datetime format to ISO standard.\n",
    "input_filename = \"https://mcfp.felk.cvut.cz/publicDatasets/CTU-Malware-Capture-Botnet-46/detailed-bidirectional-flow-labels/capture20110815-2.binetflow\"\n",
    "from datetime import datetime\n",
    "ctu_date_parser = lambda x: datetime.strptime(x, '%Y/%m/%d %H:%M:%S.%f').strftime(\"%Y-%m-%dT%H:%M:%S.%f\")\n",
    "df = pd.read_csv(input_filename, parse_dates=['StartTime'], date_parser=ctu_date_parser)"
   ]
  },
  {
   "cell_type": "code",
   "execution_count": 4,
   "metadata": {},
   "outputs": [
    {
     "data": {
      "text/html": [
       "<div>\n",
       "<style scoped>\n",
       "    .dataframe tbody tr th:only-of-type {\n",
       "        vertical-align: middle;\n",
       "    }\n",
       "\n",
       "    .dataframe tbody tr th {\n",
       "        vertical-align: top;\n",
       "    }\n",
       "\n",
       "    .dataframe thead th {\n",
       "        text-align: right;\n",
       "    }\n",
       "</style>\n",
       "<table border=\"1\" class=\"dataframe\">\n",
       "  <thead>\n",
       "    <tr style=\"text-align: right;\">\n",
       "      <th></th>\n",
       "      <th>StartTime</th>\n",
       "      <th>Dur</th>\n",
       "      <th>Proto</th>\n",
       "      <th>SrcAddr</th>\n",
       "      <th>Sport</th>\n",
       "      <th>Dir</th>\n",
       "      <th>DstAddr</th>\n",
       "      <th>Dport</th>\n",
       "      <th>State</th>\n",
       "      <th>sTos</th>\n",
       "      <th>dTos</th>\n",
       "      <th>TotPkts</th>\n",
       "      <th>TotBytes</th>\n",
       "      <th>SrcBytes</th>\n",
       "      <th>Label</th>\n",
       "    </tr>\n",
       "  </thead>\n",
       "  <tbody>\n",
       "    <tr>\n",
       "      <th>102918</th>\n",
       "      <td>2011-08-15 17:06:34.964513</td>\n",
       "      <td>44.512245</td>\n",
       "      <td>tcp</td>\n",
       "      <td>147.32.86.168</td>\n",
       "      <td>56148</td>\n",
       "      <td>-&gt;</td>\n",
       "      <td>209.85.149.189</td>\n",
       "      <td>443</td>\n",
       "      <td>FSPA_FSPA</td>\n",
       "      <td>0.0</td>\n",
       "      <td>0.0</td>\n",
       "      <td>347</td>\n",
       "      <td>49999</td>\n",
       "      <td>13990</td>\n",
       "      <td>flow=Background-TCP-Established</td>\n",
       "    </tr>\n",
       "    <tr>\n",
       "      <th>11916</th>\n",
       "      <td>2011-08-15 16:45:21.354008</td>\n",
       "      <td>0.501699</td>\n",
       "      <td>tcp</td>\n",
       "      <td>147.32.85.76</td>\n",
       "      <td>1398</td>\n",
       "      <td>-&gt;</td>\n",
       "      <td>67.225.149.204</td>\n",
       "      <td>80</td>\n",
       "      <td>FSPA_FSPA</td>\n",
       "      <td>0.0</td>\n",
       "      <td>0.0</td>\n",
       "      <td>9</td>\n",
       "      <td>1489</td>\n",
       "      <td>788</td>\n",
       "      <td>flow=Background-TCP-Established</td>\n",
       "    </tr>\n",
       "    <tr>\n",
       "      <th>114135</th>\n",
       "      <td>2011-08-15 17:09:00.916677</td>\n",
       "      <td>0.162747</td>\n",
       "      <td>udp</td>\n",
       "      <td>147.32.84.164</td>\n",
       "      <td>53330</td>\n",
       "      <td>&lt;-&gt;</td>\n",
       "      <td>147.32.80.9</td>\n",
       "      <td>53</td>\n",
       "      <td>CON</td>\n",
       "      <td>0.0</td>\n",
       "      <td>0.0</td>\n",
       "      <td>2</td>\n",
       "      <td>320</td>\n",
       "      <td>82</td>\n",
       "      <td>flow=From-Normal-V46-Grill</td>\n",
       "    </tr>\n",
       "    <tr>\n",
       "      <th>77515</th>\n",
       "      <td>2011-08-15 17:00:37.548131</td>\n",
       "      <td>0.000000</td>\n",
       "      <td>igmp</td>\n",
       "      <td>147.32.87.1</td>\n",
       "      <td>NaN</td>\n",
       "      <td>-&gt;</td>\n",
       "      <td>224.0.0.1</td>\n",
       "      <td>NaN</td>\n",
       "      <td>INT</td>\n",
       "      <td>192.0</td>\n",
       "      <td>NaN</td>\n",
       "      <td>1</td>\n",
       "      <td>60</td>\n",
       "      <td>60</td>\n",
       "      <td>flow=Background</td>\n",
       "    </tr>\n",
       "  </tbody>\n",
       "</table>\n",
       "</div>"
      ],
      "text/plain": [
       "                        StartTime        Dur Proto        SrcAddr  Sport  \\\n",
       "102918 2011-08-15 17:06:34.964513  44.512245   tcp  147.32.86.168  56148   \n",
       "11916  2011-08-15 16:45:21.354008   0.501699   tcp   147.32.85.76   1398   \n",
       "114135 2011-08-15 17:09:00.916677   0.162747   udp  147.32.84.164  53330   \n",
       "77515  2011-08-15 17:00:37.548131   0.000000  igmp    147.32.87.1    NaN   \n",
       "\n",
       "          Dir         DstAddr Dport      State   sTos  dTos  TotPkts  \\\n",
       "102918     ->  209.85.149.189   443  FSPA_FSPA    0.0   0.0      347   \n",
       "11916      ->  67.225.149.204    80  FSPA_FSPA    0.0   0.0        9   \n",
       "114135    <->     147.32.80.9    53        CON    0.0   0.0        2   \n",
       "77515      ->       224.0.0.1   NaN        INT  192.0   NaN        1   \n",
       "\n",
       "        TotBytes  SrcBytes                            Label  \n",
       "102918     49999     13990  flow=Background-TCP-Established  \n",
       "11916       1489       788  flow=Background-TCP-Established  \n",
       "114135       320        82       flow=From-Normal-V46-Grill  \n",
       "77515         60        60                  flow=Background  "
      ]
     },
     "execution_count": 4,
     "metadata": {},
     "output_type": "execute_result"
    }
   ],
   "source": [
    "df.sample(4)"
   ]
  },
  {
   "cell_type": "markdown",
   "metadata": {},
   "source": [
    "## 3. Create graph schema"
   ]
  },
  {
   "cell_type": "code",
   "execution_count": 5,
   "metadata": {},
   "outputs": [],
   "source": [
    "# Create a vertex frame on the xGT server.\n",
    "ip = server.create_vertex_frame(\n",
    "    name = 'IP',\n",
    "    schema = [['IPAddr', xgt.TEXT]],\n",
    "    key = 'IPAddr',\n",
    ")"
   ]
  },
  {
   "cell_type": "code",
   "execution_count": 6,
   "metadata": {},
   "outputs": [],
   "source": [
    "# Create a netflow edge frame on the xGT server.\n",
    "netflow = server.create_edge_frame(\n",
    "    name = 'Netflow',\n",
    "    schema = [\n",
    "        ['StartTime', xgt.DATETIME], ['Dur', xgt.FLOAT], ['Proto', xgt.TEXT], ['SrcAddr', xgt.TEXT],\n",
    "        ['Sport', xgt.INT], ['Dir', xgt.TEXT], ['DstAddr', xgt.TEXT], ['Dport', xgt.INT],\n",
    "        ['State', xgt.TEXT], ['sTos', xgt.FLOAT], ['dTos', xgt.FLOAT],['TotPkts', xgt.INT],\n",
    "        ['TotBytes', xgt.INT], ['SrcBytes', xgt.INT], ['Label', xgt.TEXT],\n",
    "    ],\n",
    "    source = ip,\n",
    "    target = ip,\n",
    "    source_key = 'SrcAddr',\n",
    "    target_key = 'DstAddr', \n",
    ")"
   ]
  },
  {
   "cell_type": "markdown",
   "metadata": {},
   "source": [
    "## 4. Upload the data to the Trovares xGT server\n"
   ]
  },
  {
   "cell_type": "code",
   "execution_count": 7,
   "metadata": {
    "scrolled": true
   },
   "outputs": [
    {
     "name": "stdout",
     "output_type": "stream",
     "text": [
      "IP count: 41,658\n",
      "Netflow record (edges) count: 129,832\n",
      "CPU times: user 2.29 s, sys: 479 ms, total: 2.77 s\n",
      "Wall time: 4.2 s\n"
     ]
    }
   ],
   "source": [
    "%%time\n",
    "# Note that the graph vertices containing IP addresses will be automatically created in the\n",
    "# xGT server for any IP address mentioned as either source or target of a netflow edge.\n",
    "netflow.insert(df)\n",
    "print(f\"IP count: {ip.num_rows:,}\")\n",
    "print(f\"Netflow record (edges) count: {netflow.num_rows:,}\")"
   ]
  },
  {
   "cell_type": "code",
   "execution_count": 8,
   "metadata": {},
   "outputs": [
    {
     "name": "stdout",
     "output_type": "stream",
     "text": [
      "Memory footprint: 0.045 GiB used out of 4.000 GiB available.\n"
     ]
    }
   ],
   "source": [
    "# Show memory footprint\n",
    "max_memory = server.max_user_memory_size\n",
    "print(f\"Memory footprint: {max_memory - server.free_user_memory_size:,.3f} GiB used out of {max_memory:,.3f} GiB available.\")"
   ]
  },
  {
   "cell_type": "markdown",
   "metadata": {},
   "source": [
    "## 5. Run a query\n",
    "\n",
    "Run a `MATCH` query looking for a two-cycle that satisfy a bunch of constraints:\n",
    "\n",
    "- The two edges are ordered by time.\n",
    "- The durations are increasing throughout the path; the second edge has a much larger duration than the first.\n",
    "- The two edges have these *OSI transport layer* protocols:  (tcp, icmp)\n"
   ]
  },
  {
   "cell_type": "code",
   "execution_count": 9,
   "metadata": {},
   "outputs": [
    {
     "name": "stdout",
     "output_type": "stream",
     "text": [
      "Number of results: 38\n",
      "Total number of visited edges: 72,051\n",
      "CPU times: user 0 ns, sys: 15.7 ms, total: 15.7 ms\n",
      "Wall time: 50.9 ms\n"
     ]
    }
   ],
   "source": [
    "%%time\n",
    "job = server.run_job(\"\"\"\n",
    "    MATCH (a)-[e1]->(b)-[e2]->(a)\n",
    "    WHERE e1.StartTime <= e2.StartTime\n",
    "      AND e1.Dur < (e2.Dur / 10)  // e2 duration at least 10 times longer than e1\n",
    "      AND e1.Proto = 'tcp'\n",
    "      AND e2.Proto = 'icmp'\n",
    "    RETURN\n",
    "      a.IPAddr AS A, e1.StartTime AS timestamp1, e1.Dur AS dur1,\n",
    "      b.IPAddr AS B, e2.StartTime AS timestamp2, e2.Dur AS dur2\n",
    "\"\"\")\n",
    "\n",
    "result_set = job.get_data_pandas()\n",
    "print(\"Number of results: \" + str(job.total_rows))\n",
    "print(f\"Total number of visited edges: {job.total_visited_edges:,}\")"
   ]
  },
  {
   "cell_type": "code",
   "execution_count": 10,
   "metadata": {
    "scrolled": true
   },
   "outputs": [],
   "source": [
    "# Uncomment to see the actual answers in a pandas frame\n",
    "# result_set"
   ]
  },
  {
   "cell_type": "code",
   "execution_count": 11,
   "metadata": {},
   "outputs": [],
   "source": [
    "## 6. Plot answers with Graphistry\n",
    "g = graphistry.edges(result_set, 'A', 'B')"
   ]
  },
  {
   "cell_type": "code",
   "execution_count": 12,
   "metadata": {
    "scrolled": false
   },
   "outputs": [
    {
     "data": {
      "text/html": [
       "\n",
       "            <iframe id=\"f508d33a-feb6-4d39-8a1c-43c6b9061e2e\" src=\"https://hub.graphistry.com/graph/graph.html?dataset=3ff9affecd0c4a7e8fe325fa7fb522dc&type=arrow&viztoken=650adf15-3d0e-4dda-9e9c-c9fe5ae7da7d&usertag=21afd233-pygraphistry-0.20.5&splashAfter=1639695433&info=true&dissuadeHubs=True&strongGravity=True\"\n",
       "                    allowfullscreen=\"true\" webkitallowfullscreen=\"true\" mozallowfullscreen=\"true\"\n",
       "                    oallowfullscreen=\"true\" msallowfullscreen=\"true\"\n",
       "                    style=\"width:100%; height:500px; border: 1px solid #DDD; overflow: hidden\"\n",
       "                    \n",
       "            >\n",
       "            </iframe>\n",
       "        \n",
       "            <script>\n",
       "                try {\n",
       "                  $(\"#f508d33a-feb6-4d39-8a1c-43c6b9061e2e\").bind('mousewheel', function(e) { e.preventDefault(); });\n",
       "                } catch (e) { console.error('exn catching scroll', e); }\n",
       "            </script>\n",
       "        "
      ],
      "text/plain": [
       "<IPython.core.display.HTML object>"
      ]
     },
     "execution_count": 12,
     "metadata": {},
     "output_type": "execute_result"
    }
   ],
   "source": [
    "g.settings(url_params={'dissuadeHubs':True, 'strongGravity': True}).plot()"
   ]
  },
  {
   "cell_type": "markdown",
   "metadata": {},
   "source": [
    "<footer>Copyright &copy; 2021 Trovares Inc</footer>"
   ]
  }
 ],
 "metadata": {
  "kernelspec": {
   "display_name": "Python 3 (ipykernel)",
   "language": "python",
   "name": "python3"
  },
  "language_info": {
   "codemirror_mode": {
    "name": "ipython",
    "version": 3
   },
   "file_extension": ".py",
   "mimetype": "text/x-python",
   "name": "python",
   "nbconvert_exporter": "python",
   "pygments_lexer": "ipython3",
   "version": "3.8.10"
  }
 },
 "nbformat": 4,
 "nbformat_minor": 2
}
