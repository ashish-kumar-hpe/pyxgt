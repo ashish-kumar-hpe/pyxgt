{
 "cells": [
  {
   "cell_type": "markdown",
   "metadata": {},
   "source": [
    "# Launch Trovares xGT on an AWS EC2 Instance\n",
    "\n",
    " - Step 1.  Establish configuration parameters for the launch\n",
    " - Step 2.  Check if stack is already running\n",
    " - Step 3.  Launch the stack if it is not running\n",
    " \n",
    "For details on how we launch the EC2 instance, see `launch_utils.py`. \n",
    "\n",
    "If the notebook environment has `ipywidgets` installed, then it is necessary to single-step through the cells of this notebook until at least the `launcher.capture_configuration()` method is called."
   ]
  },
  {
   "cell_type": "code",
   "execution_count": 1,
   "metadata": {
    "scrolled": false
   },
   "outputs": [
    {
     "data": {
      "application/vnd.jupyter.widget-view+json": {
       "model_id": "8ece04c7519740a8a731f2aeeffa0093",
       "version_major": 2,
       "version_minor": 0
      },
      "text/plain": [
       "VBox(children=(HBox(children=(Label(value='Stack Name:'), Text(value=''))), HBox(children=(Label(value='Instan…"
      ]
     },
     "metadata": {},
     "output_type": "display_data"
    },
    {
     "data": {
      "application/javascript": [
       "var i = IPython.notebook.get_selected_index(); IPython.notebook.select(i+1);"
      ],
      "text/plain": [
       "<IPython.core.display.Javascript object>"
      ]
     },
     "metadata": {},
     "output_type": "display_data"
    }
   ],
   "source": [
    "import launch_utils\n",
    "launcher = launch_utils.LaunchxGT('cfxgt.json')\n",
    "launcher.request_configuration()"
   ]
  },
  {
   "cell_type": "code",
   "execution_count": 2,
   "metadata": {},
   "outputs": [
    {
     "data": {
      "text/plain": [
       "{'KeyName': 'david', 'InstanceType': 't3a.medium'}"
      ]
     },
     "execution_count": 2,
     "metadata": {},
     "output_type": "execute_result"
    }
   ],
   "source": [
    "launcher.capture_configuration()\n",
    "launcher.parameters"
   ]
  },
  {
   "cell_type": "code",
   "execution_count": 3,
   "metadata": {},
   "outputs": [
    {
     "name": "stdout",
     "output_type": "stream",
     "text": [
      "Stack creation initiated ......................\n",
      "Stack creation complete\n",
      "IP Address: 44.234.48.70\n"
     ]
    }
   ],
   "source": [
    "if not launcher.stack_is_running():\n",
    "    launcher.launch()"
   ]
  },
  {
   "cell_type": "code",
   "execution_count": 10,
   "metadata": {
    "scrolled": true
   },
   "outputs": [
    {
     "name": "stdout",
     "output_type": "stream",
     "text": [
      "Worker threads: 2, total memory: 4.0 GiB\n"
     ]
    }
   ],
   "source": [
    "# Do some work with running xGT\n",
    "xgt_server = launcher.xgt_server()\n",
    "config = xgt_server.get_config()\n",
    "threads = config['system.worker_threads']\n",
    "memory = xgt_server.max_user_memory_size\n",
    "print(f\"Worker threads: {threads}, total memory: {memory} GiB\")"
   ]
  },
  {
   "cell_type": "markdown",
   "metadata": {},
   "source": [
    "### Using other notebooks\n",
    "\n",
    "To use other notebooks to drive this EC2 instance, the following code should be used:"
   ]
  },
  {
   "cell_type": "code",
   "execution_count": 7,
   "metadata": {},
   "outputs": [
    {
     "name": "stdout",
     "output_type": "stream",
     "text": [
      "\n",
      "import xgt\n",
      "server = xgt.Connection(host='44.234.48.70', userid='xgtd')\n",
      "\n"
     ]
    }
   ],
   "source": [
    "print(f\"\"\"\n",
    "import xgt\n",
    "server = {launcher.get_xgt_connection_command()}\n",
    "\"\"\")"
   ]
  },
  {
   "cell_type": "code",
   "execution_count": null,
   "metadata": {},
   "outputs": [
    {
     "name": "stdout",
     "output_type": "stream",
     "text": [
      "Stack deletion initiated ........................................................"
     ]
    }
   ],
   "source": [
    "# Bring down the EC2 Instance\n",
    "launcher.delete_server_stack()"
   ]
  },
  {
   "cell_type": "code",
   "execution_count": null,
   "metadata": {
    "scrolled": false
   },
   "outputs": [],
   "source": [
    "launcher.get_stack_ip_address()"
   ]
  },
  {
   "cell_type": "code",
   "execution_count": null,
   "metadata": {},
   "outputs": [],
   "source": []
  },
  {
   "cell_type": "code",
   "execution_count": null,
   "metadata": {},
   "outputs": [],
   "source": []
  }
 ],
 "metadata": {
  "kernelspec": {
   "display_name": "Python 3 (ipykernel)",
   "language": "python",
   "name": "python3"
  },
  "language_info": {
   "codemirror_mode": {
    "name": "ipython",
    "version": 3
   },
   "file_extension": ".py",
   "mimetype": "text/x-python",
   "name": "python",
   "nbconvert_exporter": "python",
   "pygments_lexer": "ipython3",
   "version": "3.9.7"
  }
 },
 "nbformat": 4,
 "nbformat_minor": 4
}
